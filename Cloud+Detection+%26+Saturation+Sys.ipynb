{
 "cells": [
  {
   "cell_type": "code",
   "execution_count": null,
   "metadata": {},
   "outputs": [
    {
     "name": "stdout",
     "output_type": "stream",
     "text": [
      "Using matplotlib backend: MacOSX\n",
      "Using matplotlib backend: MacOSX\n",
      "Using matplotlib backend: MacOSX\n",
      "Using matplotlib backend: MacOSX\n",
      "Using matplotlib backend: MacOSX\n",
      "Using matplotlib backend: MacOSX\n",
      "Using matplotlib backend: MacOSX\n",
      "Using matplotlib backend: MacOSX\n",
      "It is cloudy today. Expect some variance in data results. The time is currently 13:17:43.918286. Last clouds reported at .\n",
      "Using matplotlib backend: MacOSX\n",
      "It is cloudy today. Expect some variance in data results. The time is currently 13:17:44.244942. Last clouds reported at Tue Aug  8 13:17:43 2017.\n",
      "Using matplotlib backend: MacOSX\n",
      "Using matplotlib backend: MacOSX\n",
      "Using matplotlib backend: MacOSX\n",
      "It is cloudy today. Expect some variance in data results. The time is currently 13:17:45.298673. Last clouds reported at Tue Aug  8 13:17:44 2017.\n",
      "Using matplotlib backend: MacOSX\n",
      "Using matplotlib backend: MacOSX\n",
      "Using matplotlib backend: MacOSX\n",
      "It is cloudy today. Expect some variance in data results. The time is currently 13:17:46.313046. Last clouds reported at Tue Aug  8 13:17:45 2017.\n",
      "Using matplotlib backend: MacOSX\n",
      "Using matplotlib backend: MacOSX\n",
      "It is cloudy today. Expect some variance in data results. The time is currently 13:17:47.248986. Last clouds reported at Tue Aug  8 13:17:46 2017.\n",
      "Using matplotlib backend: MacOSX\n",
      "Using matplotlib backend: MacOSX\n",
      "It is cloudy today. Expect some variance in data results. The time is currently 13:17:48.313372. Last clouds reported at Tue Aug  8 13:17:47 2017.\n",
      "Using matplotlib backend: MacOSX\n",
      "Using matplotlib backend: MacOSX\n",
      "Using matplotlib backend: MacOSX\n",
      "Using matplotlib backend: MacOSX\n",
      "Using matplotlib backend: MacOSX\n",
      "Using matplotlib backend: MacOSX\n",
      "Using matplotlib backend: MacOSX\n",
      "Using matplotlib backend: MacOSX\n",
      "Using matplotlib backend: MacOSX\n",
      "Using matplotlib backend: MacOSX\n",
      "Using matplotlib backend: MacOSX\n",
      "Using matplotlib backend: MacOSX\n",
      "Using matplotlib backend: MacOSX\n",
      "Using matplotlib backend: MacOSX\n",
      "It is cloudy today. Expect some variance in data results. The time is currently 13:17:54.260978. Last clouds reported at Tue Aug  8 13:17:48 2017.\n",
      "Using matplotlib backend: MacOSX\n",
      "Using matplotlib backend: MacOSX\n",
      "It is cloudy today. Expect some variance in data results. The time is currently 13:17:55.040544. Last clouds reported at Tue Aug  8 13:17:54 2017.\n",
      "Using matplotlib backend: MacOSX\n",
      "Using matplotlib backend: MacOSX\n",
      "Using matplotlib backend: MacOSX\n",
      "It is cloudy today. Expect some variance in data results. The time is currently 13:17:56.232146. Last clouds reported at Tue Aug  8 13:17:55 2017.\n",
      "Using matplotlib backend: MacOSX\n",
      "Using matplotlib backend: MacOSX\n",
      "It is cloudy today. Expect some variance in data results. The time is currently 13:17:57.138614. Last clouds reported at Tue Aug  8 13:17:56 2017.\n",
      "Using matplotlib backend: MacOSX\n",
      "Using matplotlib backend: MacOSX\n",
      "It is cloudy today. Expect some variance in data results. The time is currently 13:17:58.052457. Last clouds reported at Tue Aug  8 13:17:57 2017.\n",
      "Using matplotlib backend: MacOSX\n",
      "Using matplotlib backend: MacOSX\n",
      "Using matplotlib backend: MacOSX\n",
      "It is cloudy today. Expect some variance in data results. The time is currently 13:17:59.263439. Last clouds reported at Tue Aug  8 13:17:58 2017.\n",
      "Using matplotlib backend: MacOSX\n",
      "Using matplotlib backend: MacOSX\n",
      "Using matplotlib backend: MacOSX\n",
      "It is cloudy today. Expect some variance in data results. The time is currently 13:18:00.323519. Last clouds reported at Tue Aug  8 13:17:59 2017.\n",
      "Using matplotlib backend: MacOSX\n",
      "Using matplotlib backend: MacOSX\n",
      "Using matplotlib backend: MacOSX\n",
      "Using matplotlib backend: MacOSX\n",
      "Using matplotlib backend: MacOSX\n",
      "Using matplotlib backend: MacOSX\n",
      "Using matplotlib backend: MacOSX\n",
      "Using matplotlib backend: MacOSX\n",
      "Using matplotlib backend: MacOSX\n",
      "Using matplotlib backend: MacOSX\n",
      "Using matplotlib backend: MacOSX\n",
      "Using matplotlib backend: MacOSX\n",
      "Using matplotlib backend: MacOSX\n",
      "Using matplotlib backend: MacOSX\n",
      "Using matplotlib backend: MacOSX\n",
      "Using matplotlib backend: MacOSX\n",
      "Using matplotlib backend: MacOSX\n",
      "Using matplotlib backend: MacOSX\n",
      "Using matplotlib backend: MacOSX\n",
      "Using matplotlib backend: MacOSX\n",
      "Using matplotlib backend: MacOSX\n",
      "Using matplotlib backend: MacOSX\n",
      "Using matplotlib backend: MacOSX\n",
      "Using matplotlib backend: MacOSX\n",
      "Using matplotlib backend: MacOSX\n",
      "Using matplotlib backend: MacOSX\n",
      "Using matplotlib backend: MacOSX\n",
      "Using matplotlib backend: MacOSX\n",
      "Using matplotlib backend: MacOSX\n",
      "Using matplotlib backend: MacOSX\n",
      "Using matplotlib backend: MacOSX\n"
     ]
    }
   ],
   "source": [
    "import cv2\n",
    "import datetime\n",
    "import numpy as np\n",
    "from matplotlib import pyplot as plt\n",
    "import time\n",
    "i = 0\n",
    "cap = cv2.VideoCapture(0)\n",
    "out = cv2.VideoWriter('output.mov', -1, 20.0, (640,480))\n",
    "now = \"\"\n",
    "width = 16\n",
    "height = 9\n",
    "nows = time.strftime(\"%s\")\n",
    "plt.figure(figsize=(width, height))\n",
    "while True:\n",
    "    flag, frame = cap.read()\n",
    "\n",
    "    if flag == 0:\n",
    "        break\n",
    "    (h, s, v) = cv2.split(frame)\n",
    "    s = s + 3;\n",
    "    s = np.clip(s,0,255)\n",
    "    frame = cv2.merge([h,s,v])\n",
    "    shadowc = cv2.cvtColor(frame, cv2.COLOR_RGB2RGBA)\n",
    "    edges = cv2.Canny(shadowc,100,200)\n",
    "    cv2.imshow(\"Frame\", frame)\n",
    "    cv2.imshow(\"Edges\", edges)\n",
    "    hsv = cv2.cvtColor(frame, cv2.COLOR_BGR2HSV)\n",
    "    diff = 7\n",
    "    w1 = np.array([0,0,255-diff])\n",
    "    w2 = np.array([255,diff,255])\n",
    "    %matplotlib   \n",
    "    mask = cv2.inRange(hsv, w1, w2)\n",
    "    # Cloudy day detector\n",
    "    \n",
    "    if np.any(frame[100, 100] < [100, 100, 100]):\n",
    "        i = i + 1\n",
    "        if (nows < time.strftime(\"%s\")):\n",
    "            print(\"It is cloudy today. Expect some variance in data results. The time is currently %s. Last clouds reported at %s.\" % ((str(datetime.datetime.now().time())), str(now)))  \n",
    "        now = time.strftime(\"%c\")\n",
    "        nows = time.strftime(\"%s\")\n",
    "       \n",
    "    res = cv2.bitwise_and(frame,frame, mask= mask)\n",
    "    plt.subplot(122),plt.imshow(edges,cmap = 'gray', alpha = 0.5)\n",
    "    plt.title('Edge Image'), plt.xticks([]), plt.yticks([]),     \n",
    "    plt.imshow(frame,zorder=1, alpha=1.0)\n",
    "    plt.show()\n",
    "    out.write(frame)\n",
    "    # Quit key is 'q'\n",
    "    if cv2.waitKey(1) & 0xFF == ord('q'):\n",
    "            break\n",
    "        \n",
    "cap.release()\n",
    "out.release()\n",
    "cv2.destroyAllWindows()"
   ]
  },
  {
   "cell_type": "code",
   "execution_count": 1,
   "metadata": {
    "collapsed": true
   },
   "outputs": [],
   "source": [
    "import numpy as np\n",
    "import cv2\n",
    "\n",
    "cap = cv2.VideoCapture(0)\n",
    "\n",
    "# Define the codec and create VideoWriter object\n",
    "#fourcc = cv2.cv.CV_FOURCC(*'DIVX')\n",
    "#out = cv2.VideoWriter('output.avi',fourcc, 20.0, (640,480))\n",
    "out = cv2.VideoWriter('output.avi', -1, 20.0, (640,480))\n",
    "\n",
    "while(cap.isOpened()):\n",
    "    ret, frame = cap.read()\n",
    "    if ret==True:\n",
    "        frame = cv2.flip(frame,0)\n",
    "\n",
    "        # write the flipped frame\n",
    "        out.write(frame)\n",
    "\n",
    "        cv2.imshow('frame',frame)\n",
    "        if cv2.waitKey(1) & 0xFF == ord('q'):\n",
    "            break\n",
    "    else:\n",
    "        break\n",
    "\n",
    "# Release everything if job is finished\n",
    "cap.release()\n",
    "out.release()\n",
    "cv2.destroyAllWindows()"
   ]
  },
  {
   "cell_type": "code",
   "execution_count": null,
   "metadata": {},
   "outputs": [],
   "source": [
    "import cv2\n",
    "import numpy as np\n",
    "\n",
    "cap = cv2.VideoCapture(0)\n",
    "\n",
    "while True:\n",
    "    _, frame = cap.read()\n",
    "    cv2.imshow(\"cap\", frame)\n",
    "    \n",
    "    if cv2.waitKey(1) & 0xFF  == ord('q'):\n",
    "        break\n",
    "        \n",
    "cv2.destroyAllWindows()"
   ]
  },
  {
   "cell_type": "code",
   "execution_count": 2,
   "metadata": {},
   "outputs": [
    {
     "name": "stdout",
     "output_type": "stream",
     "text": [
      "2001635\n"
     ]
    }
   ],
   "source": []
  },
  {
   "cell_type": "code",
   "execution_count": 3,
   "metadata": {},
   "outputs": [
    {
     "name": "stdout",
     "output_type": "stream",
     "text": [
      "smartest person in the world\n"
     ]
    }
   ],
   "source": [
    "Danial = \"smartest person in the world\"\n",
    "print Danial\n"
   ]
  },
  {
   "cell_type": "code",
   "execution_count": 4,
   "metadata": {},
   "outputs": [
    {
     "name": "stdout",
     "output_type": "stream",
     "text": [
      "smartest person in the world\n"
     ]
    }
   ],
   "source": [
    "print Danial"
   ]
  },
  {
   "cell_type": "code",
   "execution_count": 8,
   "metadata": {},
   "outputs": [
    {
     "name": "stdout",
     "output_type": "stream",
     "text": [
      "Danial is the smartest person in the world\n"
     ]
    }
   ],
   "source": [
    "print \"Danial is the \" + Danial\n"
   ]
  },
  {
   "cell_type": "code",
   "execution_count": null,
   "metadata": {
    "collapsed": true
   },
   "outputs": [],
   "source": [
    "\n"
   ]
  }
 ],
 "metadata": {
  "kernelspec": {
   "display_name": "Python 2",
   "language": "python",
   "name": "python2"
  },
  "language_info": {
   "codemirror_mode": {
    "name": "ipython",
    "version": 2
   },
   "file_extension": ".py",
   "mimetype": "text/x-python",
   "name": "python",
   "nbconvert_exporter": "python",
   "pygments_lexer": "ipython2",
   "version": "2.7.13"
  }
 },
 "nbformat": 4,
 "nbformat_minor": 2
}
