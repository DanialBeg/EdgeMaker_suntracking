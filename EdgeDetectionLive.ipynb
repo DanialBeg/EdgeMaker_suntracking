{
 "cells": [
  {
   "cell_type": "code",
   "execution_count": null,
   "metadata": {},
   "outputs": [],
   "source": [
    "import cv2\n",
    "import numpy as np\n",
    "\n",
    "cap = cv2.VideoCapture(1)\n",
    "\n",
    "while(1):\n",
    "\n",
    "   _, frame = cap.read()\n",
    "   (h, s, v) = cv2.split(frame)\n",
    "   s = s + 10;\n",
    "   s = np.clip(s,0,255)\n",
    "   frame = cv2.merge([h,s,v])\n",
    "   shadowc = cv2.cvtColor(frame, cv2.COLOR_RGB2RGBA)\n",
    "   edges = cv2.Canny(shadowc,100,200)\n",
    "   cv2.imshow(\"Frame\", frame)\n",
    "   cv2.imshow(\"Edges\", edges)\n",
    "   k = cv2.waitKey(5) & 0xFF\n",
    "   if k == 27:\n",
    "       break\n",
    "\n",
    "cv2.destroyAllWindows()"
   ]
  }
 ],
 "metadata": {
  "kernelspec": {
   "display_name": "Python 2",
   "language": "python",
   "name": "python2"
  },
  "language_info": {
   "codemirror_mode": {
    "name": "ipython",
    "version": 2
   },
   "file_extension": ".py",
   "mimetype": "text/x-python",
   "name": "python",
   "nbconvert_exporter": "python",
   "pygments_lexer": "ipython2",
   "version": "2.7.13"
  }
 },
 "nbformat": 4,
 "nbformat_minor": 2
}
