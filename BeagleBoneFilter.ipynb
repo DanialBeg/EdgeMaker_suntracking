{
 "cells": [
  {
   "cell_type": "code",
   "execution_count": 3,
   "metadata": {},
   "outputs": [
    {
     "name": "stdout",
     "output_type": "stream",
     "text": [
      "Using matplotlib backend: MacOSX\n",
      "Detected\n"
     ]
    }
   ],
   "source": [
    "#5 sec delay, 20 frames\n",
    "#\n",
    "import cv2\n",
    "import datetime\n",
    "import numpy as np\n",
    "from matplotlib import pyplot as plt\n",
    "import time\n",
    "frame = cv2.imread(\"/Users/DanialBeg/Desktop/ImTest/test12.jpg\")\n",
    "\n",
    "\n",
    "(r, g, b) = cv2.split(frame)\n",
    "r = r + 20;\n",
    "g = g + 40;\n",
    "g = np.clip(0,g,0)\n",
    "r = np.clip(r,0,0)\n",
    "frame = cv2.merge([r,g,b])\n",
    "shadowc = cv2.cvtColor(frame, cv2.COLOR_RGB2RGBA)\n",
    "edges = cv2.Canny(shadowc,100,200)\n",
    "\n",
    "\n",
    "\n",
    "%matplotlib  \n",
    "    \n",
    "plt.subplot(122),plt.imshow(edges,cmap = 'gray', alpha = 0.5)\n",
    "plt.title('Edge Image'), plt.xticks([]), plt.yticks([]),    \n",
    "plt.imshow(frame,zorder=1, alpha=1.0)\n",
    "plt.show()\n",
    "# Quit key is 'q'\n",
    "\n",
    "\n",
    "if np.any(frame[100, 100] == [0, 37, 255]):\n",
    "    print \"Detected\"\n",
    "\n",
    "else:\n",
    "    print \"Detector failed\"\n",
    "\n",
    "\n",
    "if cv2.waitKey(1) & 0xFF == ord('q'):\n",
    "    plt.close()\n",
    "    cv2.destroyAllWindows()\n",
    "\n",
    "cv2.destroyAllWindows()"
   ]
  },
  {
   "cell_type": "code",
   "execution_count": null,
   "metadata": {
    "collapsed": true
   },
   "outputs": [],
   "source": []
  }
 ],
 "metadata": {
  "kernelspec": {
   "display_name": "Python 2",
   "language": "python",
   "name": "python2"
  },
  "language_info": {
   "codemirror_mode": {
    "name": "ipython",
    "version": 2
   },
   "file_extension": ".py",
   "mimetype": "text/x-python",
   "name": "python",
   "nbconvert_exporter": "python",
   "pygments_lexer": "ipython2",
   "version": "2.7.13"
  }
 },
 "nbformat": 4,
 "nbformat_minor": 2
}
