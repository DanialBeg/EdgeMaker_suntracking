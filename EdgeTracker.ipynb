{
 "cells": [
  {
   "cell_type": "code",
   "execution_count": 1,
   "metadata": {
    "collapsed": true
   },
   "outputs": [],
   "source": [
    "import numpy as np\n",
    "import cv2\n",
    "from matplotlib import pyplot as plt\n",
    " \n",
    "img = cv2.imread('/Users/harris/Documents/FirstWebsite/Resources/sunset.jpg')\n",
    "cv2.imshow('Original img',img)\n",
    "plt.show()\n",
    "(h, s, v) = cv2.split(img)\n",
    "s = s + 10;\n",
    "s = np.clip(s,0,255)\n",
    "img = cv2.merge([h,s,v])\n",
    "shadowc = cv2.cvtColor(img, cv2.COLOR_RGB2RGBA)\n",
    "edges = cv2.Canny(shadowc,100,200)\n",
    " \n",
    " \n",
    "plt.subplot(122),plt.imshow(edges,cmap = 'gray')\n",
    "plt.title('Edge Image'), plt.xticks([]), plt.yticks([])\n",
    " \n",
    "cv2.imshow('Edges',edges)\n",
    " \n",
    "cv2.imshow('Converted Image',shadowc)\n",
    " \n",
    "cv2.waitKey(0)\n",
    "cv2.destroyAllWindows()\n",
    " "
   ]
  },
  {
   "cell_type": "code",
   "execution_count": null,
   "metadata": {
    "collapsed": true
   },
   "outputs": [],
   "source": []
  }
 ],
 "metadata": {
  "kernelspec": {
   "display_name": "Python 2",
   "language": "python",
   "name": "python2"
  },
  "language_info": {
   "codemirror_mode": {
    "name": "ipython",
    "version": 2
   },
   "file_extension": ".py",
   "mimetype": "text/x-python",
   "name": "python",
   "nbconvert_exporter": "python",
   "pygments_lexer": "ipython2",
   "version": "2.7.13"
  }
 },
 "nbformat": 4,
 "nbformat_minor": 2
}
